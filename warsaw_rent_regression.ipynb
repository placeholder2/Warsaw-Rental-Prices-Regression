{
 "cells": [
  {
   "cell_type": "markdown",
   "id": "a9a4df26-f371-4ed9-962e-b82093bfb864",
   "metadata": {},
   "source": [
    "# **Warsaw Rental Prices Regression**"
   ]
  },
  {
   "cell_type": "markdown",
   "id": "2f502c31-b334-428e-a870-f4d3fe37c4ef",
   "metadata": {},
   "source": [
    "**Due to the size of the dataset the regression models which will be compared will all be simple models from scikit-learn.\\\n",
    "The regressors considered are SVM, single decision tree, regularised, robust and ensemble models.\\\n",
    "Because of transforming and scaling of the data, metrics RMSE and MAE will be normalised. Performance will be compared in both test and train data**"
   ]
  },
  {
   "cell_type": "markdown",
   "id": "42082e41-68eb-41db-aa5d-4b229eeee94b",
   "metadata": {},
   "source": [
    "## **Imports,loading data,metrics**"
   ]
  },
  {
   "cell_type": "code",
   "execution_count": 1,
   "id": "f251be30-d142-426b-b396-4c540a825030",
   "metadata": {},
   "outputs": [],
   "source": [
    "import pandas as pd\n",
    "import numpy as np\n",
    "import matplotlib.pyplot as plt\n",
    "%matplotlib inline\n",
    "import warnings\n",
    "warnings.filterwarnings('ignore')\n",
    "import joblib"
   ]
  },
  {
   "cell_type": "code",
   "execution_count": 2,
   "id": "61d9a1d2",
   "metadata": {},
   "outputs": [],
   "source": [
    "plt.rcParams.update({\n",
    "    \"xtick.major.size\": 5,\n",
    "    \"xtick.major.pad\": 20,\n",
    "    \"xtick.labelsize\": 20,\n",
    "    \"grid.color\": \"0.5\",\n",
    "    \"grid.linestyle\": \"-\",\n",
    "    \"grid.linewidth\": 5,\n",
    "    \"lines.linewidth\": 2,\n",
    "    \"lines.color\": \"g\",\n",
    "    \"figure.figsize\": (10,5),\n",
    "    'axes.titlesize': 25,\n",
    "    'axes.titlepad' : 20,\n",
    "    'figure.autolayout': True,\n",
    "})\n",
    "plt.style.use('fivethirtyeight')"
   ]
  },
  {
   "cell_type": "code",
   "execution_count": 3,
   "id": "a005da82-ab20-46ae-881f-a1039618b649",
   "metadata": {},
   "outputs": [],
   "source": [
    "file = open(\"dataset_dict.pickle\", \"rb\")\n",
    "data = joblib.load(file)\n",
    "X_train,X_test,y_train,y_test = data.values()"
   ]
  },
  {
   "cell_type": "code",
   "execution_count": 4,
   "id": "6bfbc5db-050b-40a7-9307-802c0861ceac",
   "metadata": {},
   "outputs": [],
   "source": [
    "from sklearn.metrics import mean_squared_error\n",
    "from sklearn.metrics import mean_absolute_error\n",
    "from sklearn.metrics import r2_score\n",
    "\n",
    "# Function calculating metrics\n",
    "def metrics(t,p):\n",
    "    r = np.max(p) - np.min(p)\n",
    "    rmse = np.sqrt(mean_squared_error(t,p))\n",
    "    mae = mean_absolute_error(t,p)\n",
    "    r2 = r2_score(t,p)\n",
    "    return rmse/r,mae/r,r2\n",
    "\n",
    "# Function printing metrics for test and train sets\n",
    "def evaluate(pred,pred_train):\n",
    "    train_nrmse,train_nmae,train_r2 = metrics(y_train, pred_train)\n",
    "    print(f'Train data NRMSE: {train_nrmse}, NMAE: {train_nmae}, R2: {train_r2} ')\n",
    "    test_nrmse,test_nmae,test_r2 = metrics(y_test, pred)\n",
    "    print(f'Test data NRMSE: {test_nrmse}, NMAE: {test_nmae}, R2: {test_r2} ')"
   ]
  },
  {
   "cell_type": "markdown",
   "id": "9b22d43b-7930-41fa-8f91-ab8b5fcda9b8",
   "metadata": {},
   "source": [
    "## **Modeling**"
   ]
  },
  {
   "cell_type": "code",
   "execution_count": 5,
   "id": "681f6d81-465a-47bc-a31b-65cd52b49252",
   "metadata": {},
   "outputs": [],
   "source": [
    "from sklearn.svm import SVR\n",
    "from sklearn.linear_model import HuberRegressor\n",
    "from sklearn.linear_model import RANSACRegressor\n",
    "from sklearn.linear_model import TheilSenRegressor\n",
    "from sklearn.linear_model import RidgeCV\n",
    "from sklearn.linear_model import ElasticNetCV\n",
    "from sklearn.tree import DecisionTreeRegressor\n",
    "from sklearn.ensemble import RandomForestRegressor\n",
    "from sklearn.ensemble import ExtraTreesRegressor\n",
    "from sklearn.ensemble import GradientBoostingRegressor\n",
    "from sklearn.linear_model import SGDRegressor"
   ]
  },
  {
   "cell_type": "markdown",
   "id": "d9a48140-41dc-4026-b927-2a9b910a1c86",
   "metadata": {},
   "source": [
    "### **Benchmark**"
   ]
  },
  {
   "cell_type": "code",
   "execution_count": 6,
   "id": "aa5a4720-eaf5-45bd-a519-26511f84d4bf",
   "metadata": {},
   "outputs": [
    {
     "name": "stdout",
     "output_type": "stream",
     "text": [
      "Train data NRMSE: 0.07154622606837203, NMAE: 0.05422313799709202, R2: 0.793176849405448 \n",
      "Test data NRMSE: 0.08573931453719036, NMAE: 0.06415912149803221, R2: 0.7791809489998094 \n"
     ]
    }
   ],
   "source": [
    "from sklearn.linear_model import LinearRegression\n",
    "lr = LinearRegression()\n",
    "lr.fit(X_train,y_train)\n",
    "lr_pred = lr.predict(X_test)\n",
    "lr_pred_train = lr.predict(X_train)\n",
    "entry = evaluate(lr_pred,lr_pred_train)"
   ]
  },
  {
   "cell_type": "markdown",
   "id": "1f804ff6-5a73-445a-a580-bd22d901dd4f",
   "metadata": {},
   "source": [
    "### **SVR**"
   ]
  },
  {
   "cell_type": "code",
   "execution_count": 7,
   "id": "eca4448e-ab3e-4f67-90a8-24b4f178ebc5",
   "metadata": {},
   "outputs": [],
   "source": [
    "SVR_rbf = SVR()\n",
    "SVR_l = SVR(kernel = 'linear')"
   ]
  },
  {
   "cell_type": "code",
   "execution_count": 8,
   "id": "4b137e99-e891-4214-af84-e977e85f07ef",
   "metadata": {},
   "outputs": [],
   "source": [
    "SVR_rbf.fit(X_train, y_train)\n",
    "SVR_l.fit(X_train, y_train);"
   ]
  },
  {
   "cell_type": "code",
   "execution_count": 9,
   "id": "8d3e8ddf-42b2-42b3-b137-8d9cab2352e9",
   "metadata": {},
   "outputs": [],
   "source": [
    "SVR_rbf_pred = SVR_rbf.predict(X_test)\n",
    "SVR_rbf_pred_train = SVR_rbf.predict(X_train)\n",
    "\n",
    "SVR_l_pred = SVR_l.predict(X_test)\n",
    "SVR_l_pred_train = SVR_l.predict(X_train)"
   ]
  },
  {
   "cell_type": "code",
   "execution_count": 10,
   "id": "9cb261a9-99bc-4b20-a7e2-8eeaa1c3b8c8",
   "metadata": {},
   "outputs": [
    {
     "name": "stdout",
     "output_type": "stream",
     "text": [
      "Train data NRMSE: 0.06969006820534597, NMAE: 0.048784630262557735, R2: 0.8604514025733531 \n",
      "Test data NRMSE: 0.09523331508242598, NMAE: 0.07136328559672057, R2: 0.8034559238814616 \n"
     ]
    }
   ],
   "source": [
    "evaluate(SVR_rbf_pred,SVR_rbf_pred_train)"
   ]
  },
  {
   "cell_type": "code",
   "execution_count": 11,
   "id": "b2dad035-3ec7-4108-b30d-1149c5cac05c",
   "metadata": {},
   "outputs": [
    {
     "name": "stdout",
     "output_type": "stream",
     "text": [
      "Train data NRMSE: 0.07590186859827817, NMAE: 0.0565241201511019, R2: 0.7895573403678612 \n",
      "Test data NRMSE: 0.09119541722317334, NMAE: 0.06787778393483163, R2: 0.776889273381204 \n"
     ]
    }
   ],
   "source": [
    "evaluate(SVR_l_pred,SVR_l_pred_train)"
   ]
  },
  {
   "cell_type": "markdown",
   "id": "497f27c0-a5ad-4c94-aff8-b8b85efbe43e",
   "metadata": {},
   "source": [
    "**None of SVR variants performed better than the benchmark**"
   ]
  },
  {
   "cell_type": "markdown",
   "id": "6666d608-1ec6-4851-8cb9-3f9e0a7b20e8",
   "metadata": {},
   "source": [
    "### **Robust**"
   ]
  },
  {
   "cell_type": "code",
   "execution_count": 12,
   "id": "280b1c9f-2a7a-49af-871d-bb238f3f7382",
   "metadata": {},
   "outputs": [],
   "source": [
    "ts = TheilSenRegressor(random_state=23)\n",
    "r = RANSACRegressor(random_state=23)\n",
    "h = HuberRegressor();"
   ]
  },
  {
   "cell_type": "code",
   "execution_count": 13,
   "id": "919383d7-6249-4e2e-8cde-c550ee457292",
   "metadata": {},
   "outputs": [],
   "source": [
    "ts.fit(X_train, y_train)\n",
    "r.fit(X_train, y_train)\n",
    "h.fit(X_train, y_train);"
   ]
  },
  {
   "cell_type": "code",
   "execution_count": 14,
   "id": "edbe9ea5-9d51-4951-8862-a8b8e76c212c",
   "metadata": {},
   "outputs": [],
   "source": [
    "ts_pred = ts.predict(X_test)\n",
    "ts_pred_train = ts.predict(X_train)\n",
    "\n",
    "r_pred = r.predict(X_test)\n",
    "r_pred_train = r.predict(X_train)\n",
    "\n",
    "h_pred = h.predict(X_test)\n",
    "h_pred_train = h.predict(X_train)"
   ]
  },
  {
   "cell_type": "code",
   "execution_count": 15,
   "id": "0cfc597d-ae72-4609-8d65-e92cc0ff8ad5",
   "metadata": {},
   "outputs": [
    {
     "name": "stdout",
     "output_type": "stream",
     "text": [
      "Train data NRMSE: 0.07363697007449155, NMAE: 0.05579962263644559, R2: 0.7894115628330156 \n",
      "Test data NRMSE: 0.09221654568131935, NMAE: 0.06935689162497145, R2: 0.7723223458687349 \n"
     ]
    }
   ],
   "source": [
    "evaluate(ts_pred,ts_pred_train)"
   ]
  },
  {
   "cell_type": "code",
   "execution_count": 16,
   "id": "9ae54348-7daf-4bce-9b51-76061090d195",
   "metadata": {},
   "outputs": [
    {
     "name": "stdout",
     "output_type": "stream",
     "text": [
      "Train data NRMSE: 0.08533640281426175, NMAE: 0.06412303585450556, R2: 0.7490657580841471 \n",
      "Test data NRMSE: 0.10483008613496896, NMAE: 0.07909441367793033, R2: 0.734154320136671 \n"
     ]
    }
   ],
   "source": [
    "evaluate(r_pred,r_pred_train)"
   ]
  },
  {
   "cell_type": "code",
   "execution_count": 17,
   "id": "ea14ff10-ec11-4863-8017-fea933cf26ae",
   "metadata": {},
   "outputs": [
    {
     "name": "stdout",
     "output_type": "stream",
     "text": [
      "Train data NRMSE: 0.07386342136439912, NMAE: 0.055263338642124835, R2: 0.7913475560743637 \n",
      "Test data NRMSE: 0.08795251658128507, NMAE: 0.06556017828804872, R2: 0.7771197745711056 \n"
     ]
    }
   ],
   "source": [
    "entry = evaluate(h_pred,h_pred_train)"
   ]
  },
  {
   "cell_type": "markdown",
   "id": "5b46c216-dd23-438e-a7eb-3e1923e17342",
   "metadata": {},
   "source": [
    "**Only Huber Regression got close to benchmark, but did not surpass it**"
   ]
  },
  {
   "cell_type": "markdown",
   "id": "649c10e2-d8c1-4385-8b24-669192f067af",
   "metadata": {},
   "source": [
    "### **Regularised**"
   ]
  },
  {
   "cell_type": "code",
   "execution_count": 18,
   "id": "acedf603-4e28-4c57-bd2a-cc8e9a316a11",
   "metadata": {},
   "outputs": [],
   "source": [
    "alphas = [0.0001, 0.001, 0.01, 0.1, 0.3, 0.5, 0.7, 1]\n",
    "rcv =  RidgeCV(alphas=alphas , cv=10)\n",
    "encv = ElasticNetCV(alphas=alphas, cv=10)"
   ]
  },
  {
   "cell_type": "code",
   "execution_count": 19,
   "id": "3c16c737-9cab-4a67-9a8d-2772f48a659a",
   "metadata": {},
   "outputs": [],
   "source": [
    "rcv.fit(X_train, y_train)\n",
    "encv.fit(X_train, y_train);"
   ]
  },
  {
   "cell_type": "code",
   "execution_count": 20,
   "id": "eb9be2f9-631c-417a-8d81-43cfcec5f83f",
   "metadata": {},
   "outputs": [],
   "source": [
    "rcv_pred = rcv.predict(X_test)\n",
    "rcv_pred_train = rcv.predict(X_train)\n",
    "\n",
    "ecv_pred = encv.predict(X_test)\n",
    "ecv_pred_train = encv.predict(X_train)"
   ]
  },
  {
   "cell_type": "code",
   "execution_count": 21,
   "id": "a847955d-cc0b-46db-a176-2137ab7f6606",
   "metadata": {},
   "outputs": [
    {
     "name": "stdout",
     "output_type": "stream",
     "text": [
      "Train data NRMSE: 0.07205768507230088, NMAE: 0.05461128604329352, R2: 0.7931211738841523 \n",
      "Test data NRMSE: 0.08618084728097143, NMAE: 0.06444420363025315, R2: 0.7788299848814713 \n"
     ]
    }
   ],
   "source": [
    "evaluate(rcv_pred,rcv_pred_train)"
   ]
  },
  {
   "cell_type": "code",
   "execution_count": 22,
   "id": "1adcb500-3ad3-48e9-af3c-4f343d542ca9",
   "metadata": {},
   "outputs": [
    {
     "name": "stdout",
     "output_type": "stream",
     "text": [
      "Train data NRMSE: 0.07171558079427205, NMAE: 0.0543556302790741, R2: 0.7931662354707083 \n",
      "Test data NRMSE: 0.08590034539459482, NMAE: 0.06424734362309176, R2: 0.7790174045501457 \n"
     ]
    }
   ],
   "source": [
    "evaluate(ecv_pred,ecv_pred_train)"
   ]
  },
  {
   "cell_type": "markdown",
   "id": "dd645872-ab09-4926-a376-c76e66ca53f4",
   "metadata": {},
   "source": [
    "**Both did get close, but have not reached the benchmark**"
   ]
  },
  {
   "cell_type": "markdown",
   "id": "ed0ec349-c979-47d0-899e-509ed02c2289",
   "metadata": {},
   "source": [
    "### **Trees**"
   ]
  },
  {
   "cell_type": "code",
   "execution_count": 23,
   "id": "f99e6b9c-da3f-4088-8aa5-a8282ea615b1",
   "metadata": {},
   "outputs": [],
   "source": [
    "dt = DecisionTreeRegressor()\n",
    "rf = RandomForestRegressor(n_estimators=3)\n",
    "et = ExtraTreesRegressor(n_estimators=3)"
   ]
  },
  {
   "cell_type": "code",
   "execution_count": 24,
   "id": "95189d6e-3a0e-45cc-ac6a-a98c6f38b604",
   "metadata": {},
   "outputs": [],
   "source": [
    "dt.fit(X_train, y_train)\n",
    "rf.fit(X_train, y_train)\n",
    "et.fit(X_train, y_train);"
   ]
  },
  {
   "cell_type": "code",
   "execution_count": 25,
   "id": "d6722715-0755-4ed2-8e1a-717a6bb87833",
   "metadata": {},
   "outputs": [],
   "source": [
    "dt_pred = dt.predict(X_test)\n",
    "dt_pred_train = dt.predict(X_train)\n",
    "\n",
    "rf_pred = rf.predict(X_test)\n",
    "rf_pred_train = rf.predict(X_train)\n",
    "\n",
    "et_pred = et.predict(X_test)\n",
    "et_pred_train = et.predict(X_train)"
   ]
  },
  {
   "cell_type": "code",
   "execution_count": 26,
   "id": "94b82d1c-4de0-42d0-9ef0-3295b0c24d0c",
   "metadata": {},
   "outputs": [
    {
     "name": "stdout",
     "output_type": "stream",
     "text": [
      "Train data NRMSE: 0.009364785989441644, NMAE: 0.0015198175862337633, R2: 0.9961391732612115 \n",
      "Test data NRMSE: 0.0942726101826471, NMAE: 0.07001937398266377, R2: 0.5885016814516386 \n"
     ]
    }
   ],
   "source": [
    "evaluate(dt_pred,dt_pred_train)"
   ]
  },
  {
   "cell_type": "code",
   "execution_count": 27,
   "id": "32f014df-c3a5-4bbb-a81b-2b2b4a5992b9",
   "metadata": {},
   "outputs": [
    {
     "name": "stdout",
     "output_type": "stream",
     "text": [
      "Train data NRMSE: 0.03904607846167539, NMAE: 0.023065590164511242, R2: 0.9328819324954243 \n",
      "Test data NRMSE: 0.09209686337882361, NMAE: 0.06979272675680315, R2: 0.70930260613559 \n"
     ]
    }
   ],
   "source": [
    "entry = evaluate(rf_pred,rf_pred_train)"
   ]
  },
  {
   "cell_type": "code",
   "execution_count": 28,
   "id": "a2c034c4-c0ab-4e0f-aca7-90ba9fa71bef",
   "metadata": {},
   "outputs": [
    {
     "name": "stdout",
     "output_type": "stream",
     "text": [
      "Train data NRMSE: 0.009364785989441644, NMAE: 0.0015198175862337659, R2: 0.9961391732612115 \n",
      "Test data NRMSE: 0.09295002730200394, NMAE: 0.06750563117789167, R2: 0.7181328221038512 \n"
     ]
    }
   ],
   "source": [
    "entry = evaluate(et_pred,et_pred_train)"
   ]
  },
  {
   "cell_type": "markdown",
   "id": "39997697-ed28-4709-a935-2c8c16e8c638",
   "metadata": {},
   "source": [
    "**None of them have surpassed benchmark**"
   ]
  },
  {
   "cell_type": "markdown",
   "id": "b602a0aa-9383-47c1-9afe-290825f516d5",
   "metadata": {},
   "source": [
    "### **Gradiant Boosting**"
   ]
  },
  {
   "cell_type": "code",
   "execution_count": 29,
   "id": "682c5077-3e71-45c6-a40f-7b70ed20b404",
   "metadata": {},
   "outputs": [],
   "source": [
    "# Squared error\n",
    "sgbr = GradientBoostingRegressor(max_depth = 3)\n",
    "# Absolute error\n",
    "agbr = GradientBoostingRegressor(loss='lad', max_depth = 3)\n",
    "# Huber\n",
    "hgbr = GradientBoostingRegressor(loss='huber', max_depth = 3)"
   ]
  },
  {
   "cell_type": "code",
   "execution_count": 30,
   "id": "b7146ee6-2ac4-4aee-b7bf-7964f595ee3c",
   "metadata": {},
   "outputs": [],
   "source": [
    "sgbr.fit(X_train, y_train)\n",
    "agbr.fit(X_train, y_train)\n",
    "hgbr.fit(X_train, y_train);"
   ]
  },
  {
   "cell_type": "code",
   "execution_count": 31,
   "id": "a5c6c03a-4ebf-417d-9920-322d3e6ed240",
   "metadata": {},
   "outputs": [],
   "source": [
    "sgbr_pred = sgbr.predict(X_test)\n",
    "sgbr_pred_train = sgbr.predict(X_train)\n",
    "\n",
    "agbr_pred = agbr.predict(X_test)\n",
    "agbr_pred_train = agbr.predict(X_train)\n",
    "\n",
    "hgbr_pred = hgbr.predict(X_test)\n",
    "hgbr_pred_train = hgbr.predict(X_train)"
   ]
  },
  {
   "cell_type": "code",
   "execution_count": 32,
   "id": "9085751f-2036-438e-9467-1b108fbe84e7",
   "metadata": {},
   "outputs": [
    {
     "name": "stdout",
     "output_type": "stream",
     "text": [
      "Train data NRMSE: 0.06628975562183403, NMAE: 0.0493707658858643, R2: 0.8463376508914372 \n",
      "Test data NRMSE: 0.08428201389527078, NMAE: 0.06271061045053779, R2: 0.7981520306059545 \n"
     ]
    }
   ],
   "source": [
    "evaluate(sgbr_pred,sgbr_pred_train)"
   ]
  },
  {
   "cell_type": "code",
   "execution_count": 33,
   "id": "5561d576-5875-490d-ab8f-377935c41675",
   "metadata": {},
   "outputs": [
    {
     "name": "stdout",
     "output_type": "stream",
     "text": [
      "Train data NRMSE: 0.07759882369305837, NMAE: 0.05520836340800762, R2: 0.8251830998191803 \n",
      "Test data NRMSE: 0.08442246314587702, NMAE: 0.06241215975970396, R2: 0.787450714382646 \n"
     ]
    }
   ],
   "source": [
    "entry = evaluate(agbr_pred,agbr_pred_train)"
   ]
  },
  {
   "cell_type": "code",
   "execution_count": 34,
   "id": "c43e5e8d-48bc-45e8-8771-f062e6957ef7",
   "metadata": {},
   "outputs": [
    {
     "name": "stdout",
     "output_type": "stream",
     "text": [
      "Train data NRMSE: 0.06607053123235546, NMAE: 0.04831268221807175, R2: 0.842012203795769 \n",
      "Test data NRMSE: 0.07901785743185773, NMAE: 0.05893574128752738, R2: 0.8011800383608808 \n"
     ]
    }
   ],
   "source": [
    "entry = evaluate(hgbr_pred,hgbr_pred_train)"
   ]
  },
  {
   "cell_type": "markdown",
   "id": "1955d969-2e42-4e5e-8b0a-72320398c9b4",
   "metadata": {},
   "source": [
    "### **Stochastic Gradiant Boosting**"
   ]
  },
  {
   "cell_type": "code",
   "execution_count": 35,
   "id": "ce113269-11ae-44b9-ba70-9fa6e225f8f2",
   "metadata": {},
   "outputs": [],
   "source": [
    "sgd = SGDRegressor(early_stopping = True)\n",
    "hsgd = SGDRegressor(loss='huber',early_stopping = True)"
   ]
  },
  {
   "cell_type": "code",
   "execution_count": 36,
   "id": "1a477185-e7d2-46ab-88fd-14b89279a548",
   "metadata": {},
   "outputs": [],
   "source": [
    "sgd.fit(X_train, y_train)\n",
    "hsgd.fit(X_train, y_train);"
   ]
  },
  {
   "cell_type": "code",
   "execution_count": 37,
   "id": "7357d362-8ca0-47b2-9f43-d9f958e1a426",
   "metadata": {},
   "outputs": [],
   "source": [
    "sgd_pred = sgd.predict(X_test)\n",
    "sgd_pred_train = sgd.predict(X_train)\n",
    "\n",
    "hsgd_pred = hsgd.predict(X_test)\n",
    "hsgd_pred_train = hsgd.predict(X_train)"
   ]
  },
  {
   "cell_type": "code",
   "execution_count": 38,
   "id": "f708635c-505e-4619-8f96-d7e9610938be",
   "metadata": {},
   "outputs": [
    {
     "name": "stdout",
     "output_type": "stream",
     "text": [
      "Train data NRMSE: 0.07552382343998289, NMAE: 0.05763005160160837, R2: 0.7861118052981675 \n",
      "Test data NRMSE: 0.09228057155632272, NMAE: 0.06896060542616336, R2: 0.7680244138854613 \n"
     ]
    }
   ],
   "source": [
    "entry = evaluate(sgd_pred,sgd_pred_train)"
   ]
  },
  {
   "cell_type": "code",
   "execution_count": 39,
   "id": "44f78c92-200f-42eb-863f-1bdedd65e963",
   "metadata": {},
   "outputs": [
    {
     "name": "stdout",
     "output_type": "stream",
     "text": [
      "Train data NRMSE: 0.13585978572736143, NMAE: 0.09789938812572589, R2: 0.674733406409894 \n",
      "Test data NRMSE: 0.1695298081503203, NMAE: 0.11990731886468822, R2: 0.6552087157548132 \n"
     ]
    }
   ],
   "source": [
    "entry = evaluate(hsgd_pred,hsgd_pred_train)"
   ]
  },
  {
   "cell_type": "markdown",
   "id": "d885d2ef-7417-4a2c-8260-d49cf5eb00ec",
   "metadata": {},
   "source": [
    "**All Gradient Boosting Regressors performed better than the benchmark. The best one one was with the Huber loss function and so, will be tune using simple GridSearchCV**"
   ]
  },
  {
   "cell_type": "markdown",
   "id": "a99f97f8-f376-43a3-8e50-c89fbea57c33",
   "metadata": {},
   "source": [
    "## **Hyperpatameters Tuning**"
   ]
  },
  {
   "cell_type": "markdown",
   "id": "84a981af-88f9-47dd-8c88-ef8147e9ff82",
   "metadata": {},
   "source": [
    "**Main goal of tuning this time is to reduce the slight overfitting of the model.\\\n",
    "Parameters which will be tuned:\\\n",
    "a) alpha - Number of samples are considered as outliers. Minimimalization leads to more robust model\\\n",
    "b) n_estimators - Boosting stages for the algorithm. Increasing it could lead to less overfitting.\\\n",
    "c) learning_rate - Contribution of each tree. Decreasing this parameter could reduce overfitting.**"
   ]
  },
  {
   "cell_type": "code",
   "execution_count": 40,
   "id": "399be7d5-b569-430e-bee5-21d8d1574c8a",
   "metadata": {},
   "outputs": [],
   "source": [
    "from sklearn.model_selection import GridSearchCV"
   ]
  },
  {
   "cell_type": "code",
   "execution_count": 41,
   "id": "b2dde9a0-8736-4c05-a9d4-eb66eaa779d0",
   "metadata": {},
   "outputs": [],
   "source": [
    "parameters = {'alpha' : [0.5,0.6,0.7,0.8,0.9],   \n",
    "            'n_estimators' : [100,150,200],\n",
    "            'learning_rate' : [0.01,0.1,0.3],\n",
    "            'max_depth' : [3],\n",
    "            'random_state' : [23],\n",
    "            'loss' : ['huber']} "
   ]
  },
  {
   "cell_type": "code",
   "execution_count": 42,
   "id": "843dd068-14da-4a44-8db1-d96d018c2d33",
   "metadata": {},
   "outputs": [],
   "source": [
    "grid_cv_gb = GridSearchCV(GradientBoostingRegressor(),parameters, cv=3,n_jobs = -1)\n",
    "grid_cv_gb.fit(X_train,y_train);"
   ]
  },
  {
   "cell_type": "code",
   "execution_count": 43,
   "id": "fcba9cb8-d990-48c2-b48d-f9b18bafcfc9",
   "metadata": {},
   "outputs": [
    {
     "data": {
      "text/plain": [
       "{'alpha': 0.9,\n",
       " 'learning_rate': 0.1,\n",
       " 'loss': 'huber',\n",
       " 'max_depth': 3,\n",
       " 'n_estimators': 100,\n",
       " 'random_state': 23}"
      ]
     },
     "execution_count": 43,
     "metadata": {},
     "output_type": "execute_result"
    }
   ],
   "source": [
    "grid_cv_gb.best_params_"
   ]
  },
  {
   "cell_type": "code",
   "execution_count": 44,
   "id": "3b52f6c9-1d7f-48cc-a814-6332d399124b",
   "metadata": {},
   "outputs": [],
   "source": [
    "train_pred = grid_cv_gb.best_estimator_.predict(X_train)\n",
    "test_pred = grid_cv_gb.best_estimator_.predict(X_test)"
   ]
  },
  {
   "cell_type": "code",
   "execution_count": 45,
   "id": "4c0216f8-270e-41e6-833a-e1eff20294d2",
   "metadata": {},
   "outputs": [
    {
     "name": "stdout",
     "output_type": "stream",
     "text": [
      "Train data NRMSE: 0.06607053123235546, NMAE: 0.04831268221807175, R2: 0.842012203795769 \n",
      "Test data NRMSE: 0.07776253323033164, NMAE: 0.058063925138600175, R2: 0.8005948356440638 \n"
     ]
    }
   ],
   "source": [
    "evaluate(test_pred,train_pred)"
   ]
  },
  {
   "cell_type": "markdown",
   "id": "eafff62a-625f-468e-b488-d55d3e307b8e",
   "metadata": {},
   "source": [
    "**Surprisingly, the default parameters are the best, but setting the random seed improved the model performance.**"
   ]
  },
  {
   "cell_type": "markdown",
   "id": "2978de52-f602-480d-8ea9-04ca137e0e10",
   "metadata": {},
   "source": [
    "## **Feature importance**"
   ]
  },
  {
   "cell_type": "code",
   "execution_count": 46,
   "id": "eae9e99c",
   "metadata": {},
   "outputs": [],
   "source": [
    "ranking = pd.read_csv('ranking.csv')\n",
    "feat_importances = pd.DataFrame({'Importance':grid_cv_gb.best_estimator_.feature_importances_})\n",
    "feat_importances.index = ranking['Feature']"
   ]
  },
  {
   "cell_type": "code",
   "execution_count": 47,
   "id": "4a366b2d-589d-461e-8948-2fe9f20abe8f",
   "metadata": {},
   "outputs": [
    {
     "data": {
      "image/png": "[encoded data removed]",
      "text/plain": [
       "<Figure size 720x504 with 1 Axes>"
      ]
     },
     "metadata": {},
     "output_type": "display_data"
    }
   ],
   "source": [
    "feat_importances.plot(kind='barh',title = 'Feature importance',figsize=(10,7),legend = False);"
   ]
  },
  {
   "cell_type": "code",
   "execution_count": 48,
   "id": "81d2ebe5",
   "metadata": {},
   "outputs": [
    {
     "data": {
      "image/png": "[encoded data removed]",
      "text/plain": [
       "<Figure size 720x360 with 1 Axes>"
      ]
     },
     "metadata": {},
     "output_type": "display_data"
    }
   ],
   "source": [
    "feat_importances['Importance'].nlargest(10).plot(kind='barh',figsize=(10,5),title = 'Ten most important features');"
   ]
  },
  {
   "cell_type": "code",
   "execution_count": 49,
   "id": "73ed383a-6c09-4f2f-857b-a109f66603a8",
   "metadata": {},
   "outputs": [
    {
     "data": {
      "image/png": "[encoded data removed]",
      "text/plain": [
       "<Figure size 720x360 with 1 Axes>"
      ]
     },
     "metadata": {},
     "output_type": "display_data"
    }
   ],
   "source": [
    "feat_importances['Importance'].nsmallest(10).plot(kind='barh',figsize=(10,5),title = 'Ten least important features');"
   ]
  },
  {
   "cell_type": "markdown",
   "id": "188a9252-0767-429a-92ad-ca7405b16a5c",
   "metadata": {},
   "source": [
    "**The most important feature is the area, followed by whether the apartment is located in \n",
    "Śródmieście and is in block of flats.** "
   ]
  },
  {
   "cell_type": "markdown",
   "id": "dc1f9b36-157b-41ba-b8c3-3922468827a1",
   "metadata": {},
   "source": [
    "## **Saving model**"
   ]
  },
  {
   "cell_type": "code",
   "execution_count": 50,
   "id": "320a7a6f-2f4b-4784-aec3-ad994fc5e688",
   "metadata": {},
   "outputs": [
    {
     "data": {
      "text/plain": [
       "['wr_regressor.pkl']"
      ]
     },
     "execution_count": 50,
     "metadata": {},
     "output_type": "execute_result"
    }
   ],
   "source": [
    "import joblib\n",
    "joblib.dump(grid_cv_gb.best_estimator_, \"wr_regressor.pkl\")"
   ]
  }
 ],
 "metadata": {
  "kernelspec": {
   "display_name": "Python 3 (ipykernel)",
   "language": "python",
   "name": "python3"
  },
  "language_info": {
   "codemirror_mode": {
    "name": "ipython",
    "version": 3
   },
   "file_extension": ".py",
   "mimetype": "text/x-python",
   "name": "python",
   "nbconvert_exporter": "python",
   "pygments_lexer": "ipython3",
   "version": "3.9.7"
  }
 },
 "nbformat": 4,
 "nbformat_minor": 5
}
