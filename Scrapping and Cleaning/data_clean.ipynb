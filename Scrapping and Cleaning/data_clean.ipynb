{
 "cells": [
  {
   "cell_type": "code",
   "execution_count": 1,
   "id": "138afe91-0689-4741-b9be-1b5b8db341b8",
   "metadata": {},
   "outputs": [],
   "source": [
    "import pandas as pd"
   ]
  },
  {
   "cell_type": "code",
   "execution_count": 2,
   "id": "f8ffc435-b35a-4546-b940-a17be94adc52",
   "metadata": {},
   "outputs": [],
   "source": [
    "df = pd.read_csv('data.csv')"
   ]
  },
  {
   "cell_type": "code",
   "execution_count": 3,
   "id": "f4e006c4-b32b-4c04-b683-bc43533b8fe9",
   "metadata": {},
   "outputs": [],
   "source": [
    "# Dropping records\n",
    "df.drop(df.filter(regex=\"Unname\"),axis=1, inplace=True)\n",
    "df.drop(df[df.Price.str.contains(\"EUR\", na=False)].index, inplace=True)\n",
    "df.drop(df[df.District.str.contains(\"mazowieckie\", na=False)].index, inplace=True)\n",
    "df.drop(df[df.District.str.contains(\"Warszawa\", na=False)].index, inplace=True)\n",
    "df.drop(df[df['Price'].str.contains(',',na=False)].index, inplace=True)\n",
    "df.drop(df[df['Floor'].str.contains('poddasze',na=False)].index, inplace=True)\n",
    "df.drop(df[df['Floor'].str.contains('> 10',na=False)].index, inplace=True)\n",
    "df.drop(df[df['Bedrooms'].str.contains('więcej niż 10',na=False)].index, inplace=True)\n",
    "\n",
    "# Dropping columns\n",
    "df = df.drop(['Rent','Deposit','Furniture','Telephone',\n",
    "              'Security doors / windows','Closed area',\n",
    "              'Intercom / videophone','Monitoring / security',\n",
    "              'Anti-burglary blinds','Alarm system',\n",
    "              'Only for non-smokers','Two-level','Utility room','Basement',\n",
    "              'Separate kitchen','Year of construction','Street','Address','Link']\n",
    "        ,axis = 1)"
   ]
  },
  {
   "cell_type": "code",
   "execution_count": 4,
   "id": "28684f01-6eb3-4d21-b1ef-2eedcbcdf026",
   "metadata": {},
   "outputs": [],
   "source": [
    "# Splitting values\n",
    "a = df['Price'].str.split(' ',n=1, expand=True)[0]\n",
    "b = df['Price'].str.split(' ',n=1, expand=True)[1]\n",
    "df['Price'] = a.str.cat(b).str.strip()\n",
    "df['Floor'] = df['Floor'].str.split('/',n=1, expand=True)[0]\n",
    "df['Area'] = df['Area'].str.split(' ',n=1, expand=True)[0].str.replace(',','.')"
   ]
  },
  {
   "cell_type": "code",
   "execution_count": 5,
   "id": "9f2be29c",
   "metadata": {},
   "outputs": [],
   "source": [
    "# Renaming\n",
    "df = df.rename(columns={\"Bedrooms\": \"Rooms\"})\n",
    "df['District'] = df['District'].str.replace('Centrum','Śródmieście')"
   ]
  },
  {
   "cell_type": "code",
   "execution_count": 6,
   "id": "7733653b",
   "metadata": {},
   "outputs": [],
   "source": [
    "# Types conversion\n",
    "df['Floor'] = df['Floor'].astype('float').astype('Int32')\n",
    "df['Price'] = df['Price'].astype('float').astype('Int32')\n",
    "df['Rooms'] = df['Rooms'].str.strip().astype('float').astype('Int32')\n",
    "df['Area'] = df['Area'].str.strip().astype('float')"
   ]
  },
  {
   "cell_type": "code",
   "execution_count": 7,
   "id": "9ec76b7e",
   "metadata": {},
   "outputs": [],
   "source": [
    "# Translation\n",
    "df['Heating'] = df['Heating'].str.replace('elektryczne','eletric')\n",
    "df['Heating'] = df['Heating'].str.replace('inne','other')\n",
    "df['Type of building'] = df['Type of building'].str.replace('plomba','infill')\n",
    "df['Type of building'] = df['Type of building'].str.replace('szeregowiec','terraced house')\n",
    "df['Type of building'] = df['Type of building'].str.replace(' block of flats','block of flats')\n",
    "df['Building material'] = df['Building material'].str.replace('beton komórkowy','cellular concrete')\n",
    "df['Building material'] = df['Building material'].str.replace('keramzyt','gravelite')\n",
    "df[df.select_dtypes([object]).columns] = df.select_dtypes([object]).apply(lambda x: x.str.capitalize())"
   ]
  },
  {
   "cell_type": "code",
   "execution_count": 8,
   "id": "3c556c60-01ae-4115-a952-143569add257",
   "metadata": {},
   "outputs": [],
   "source": [
    "df.to_csv('warsaw_rent.csv', index=False)"
   ]
  }
 ],
 "metadata": {
  "kernelspec": {
   "display_name": "Python 3 (ipykernel)",
   "language": "python",
   "name": "python3"
  },
  "language_info": {
   "codemirror_mode": {
    "name": "ipython",
    "version": 3
   },
   "file_extension": ".py",
   "mimetype": "text/x-python",
   "name": "python",
   "nbconvert_exporter": "python",
   "pygments_lexer": "ipython3",
   "version": "3.9.7"
  }
 },
 "nbformat": 4,
 "nbformat_minor": 5
}
