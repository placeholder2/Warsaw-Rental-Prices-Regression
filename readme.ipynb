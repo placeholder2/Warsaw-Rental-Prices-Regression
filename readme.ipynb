{
 "cells": [
  {
   "cell_type": "markdown",
   "id": "54e47df4-dea5-41fd-a70f-1a161215e295",
   "metadata": {
    "tags": []
   },
   "source": [
    "# **Warsaw Rental Prices Regression** \n",
    "\n",
    "\n",
    "[![Alt text](https://upload.wikimedia.org/wikipedia/commons/8/86/A_view_to_the_South_from_the_Palace_of_Culture_and_Science_in_Warsaw.jpg)](https://commons.wikimedia.org/wiki/File:A_view_to_the_South_from_the_Palace_of_Culture_and_Science_in_Warsaw.jpg)"
   ]
  },
  {
   "cell_type": "markdown",
   "id": "e4b425be-4b14-4847-8ad1-861031e6e502",
   "metadata": {
    "tags": []
   },
   "source": [
    "## **Goal of this project**\n",
    "Analysing and modeling data on price of rental apartments in Warsaw could be used in looking for and comparing the best offers or getting insight about what features are most important and how they impact rental price. All of which can be helpful to make decisions in both private and business sectors.\n",
    "\n",
    "## **Data**\n",
    "Data used in this project is scrapped from otodom.pl, pre-cleaned and translated. The size of the dataset is fairly small and its quality is not the best due to mistakes in filling information by offers posters.\n",
    "\n",
    "## **Project structure**\n",
    "This project is split in three notebooks:\n",
    "\n",
    "**Exploratory Data Analysis**\\\n",
    "Examining distribution and relationships in data with a focus on preparing data for regression models.\n",
    "\n",
    "**Feature Engineering**\\\n",
    "Modifying data based on findings in previous notebook.\n",
    "\n",
    "**Building Regression Model**\\\n",
    "Comparing different models and tuning parameters of the best one.\n"
   ]
  }
 ],
 "metadata": {
  "kernelspec": {
   "display_name": "Python 3 (ipykernel)",
   "language": "python",
   "name": "python3"
  },
  "language_info": {
   "codemirror_mode": {
    "name": "ipython",
    "version": 3
   },
   "file_extension": ".py",
   "mimetype": "text/x-python",
   "name": "python",
   "nbconvert_exporter": "python",
   "pygments_lexer": "ipython3",
   "version": "3.9.7"
  }
 },
 "nbformat": 4,
 "nbformat_minor": 5
}
