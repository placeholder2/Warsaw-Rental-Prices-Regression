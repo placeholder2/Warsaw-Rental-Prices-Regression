{
 "cells": [
  {
   "cell_type": "markdown",
   "id": "47c82a20-083c-46af-8e9e-b0064e0ad2c7",
   "metadata": {},
   "source": [
    "# **Feature Engineering of Warsaw Rental Prices**\n"
   ]
  },
  {
   "cell_type": "code",
   "execution_count": 1,
   "id": "eb1e0a56-f1b2-48ff-80fa-6dc2e069eb19",
   "metadata": {},
   "outputs": [],
   "source": [
    "import pandas as pd\n",
    "import numpy as np\n",
    "import matplotlib.pyplot as plt\n",
    "%matplotlib inline"
   ]
  },
  {
   "cell_type": "code",
   "execution_count": 2,
   "id": "883a5a4e-8424-4741-bc27-639e96effadd",
   "metadata": {},
   "outputs": [],
   "source": [
    "df = pd.read_csv('warsaw_rent.csv')"
   ]
  },
  {
   "cell_type": "code",
   "execution_count": 3,
   "id": "ffd71853",
   "metadata": {},
   "outputs": [],
   "source": [
    "plt.rcParams.update({\n",
    "    \"xtick.major.size\": 5,\n",
    "    \"xtick.major.pad\": 20,\n",
    "    \"xtick.labelsize\": 20,\n",
    "    \"grid.color\": \"0.5\",\n",
    "    \"grid.linestyle\": \"-\",\n",
    "    \"grid.linewidth\": 5,\n",
    "    \"lines.linewidth\": 2,\n",
    "    \"lines.color\": \"g\",\n",
    "    \"figure.figsize\": (10, 5),\n",
    "    'axes.titlesize': 25,\n",
    "    'axes.titlepad' : 20,\n",
    "    'figure.autolayout': True,\n",
    "})\n",
    "plt.style.use('fivethirtyeight')"
   ]
  },
  {
   "cell_type": "markdown",
   "id": "b97f66bf-4fac-4e6d-b0ee-86318ab28b0e",
   "metadata": {},
   "source": [
    "## **Step 1 : Removing and reshaping columns** "
   ]
  },
  {
   "cell_type": "code",
   "execution_count": 4,
   "id": "7ff9b8cd-1604-4225-be2f-aadbf6886a4c",
   "metadata": {},
   "outputs": [],
   "source": [
    "df = df.drop(['Dishwasher','TV','Internet','Balcony','Garden','Floor','Heating','Rooms',\n",
    "         'Building material','Windows'],axis = 1)"
   ]
  },
  {
   "cell_type": "code",
   "execution_count": 5,
   "id": "ea072319-ede7-4cdd-9d21-a24330108370",
   "metadata": {},
   "outputs": [],
   "source": [
    "df = df[df['Price'].notna()]\n",
    "df['Type of building'].fillna(df['Type of building'].mode()[0], inplace=True)"
   ]
  },
  {
   "cell_type": "code",
   "execution_count": 6,
   "id": "f79f02c7-ed07-4c8b-83c2-16bad562a61f",
   "metadata": {},
   "outputs": [],
   "source": [
    "# Function to combine categories with frequency below 10% in given column \n",
    "def combine_rares(col):\n",
    "    frequencies = df[col].value_counts(normalize=True, ascending=True)\n",
    "    threshold = frequencies[(frequencies.cumsum() > 0.1).idxmax()]\n",
    "    df[col] = df[col].mask(df[col].map(df[col].value_counts(normalize=True)) < 0.01, 'Other')"
   ]
  },
  {
   "cell_type": "code",
   "execution_count": 7,
   "id": "005a6eed-668d-412d-85c2-9ee4a434eeba",
   "metadata": {},
   "outputs": [
    {
     "data": {
      "text/plain": [
       "(2212, 13)"
      ]
     },
     "execution_count": 7,
     "metadata": {},
     "output_type": "execute_result"
    }
   ],
   "source": [
    "df.shape"
   ]
  },
  {
   "cell_type": "code",
   "execution_count": 8,
   "id": "0da25766-86c8-46e8-aaaa-f9a2d8531b7b",
   "metadata": {},
   "outputs": [],
   "source": [
    "combine_rares('Type of building')"
   ]
  },
  {
   "cell_type": "code",
   "execution_count": 9,
   "id": "b665129b-06c3-4345-a836-972fa6b05c6a",
   "metadata": {},
   "outputs": [],
   "source": [
    "y = df['Price']\n",
    "df = df.drop(['Price'],axis = 1)"
   ]
  },
  {
   "cell_type": "code",
   "execution_count": 10,
   "id": "40e7f574-0b48-423e-9d39-4a5ea101960d",
   "metadata": {},
   "outputs": [],
   "source": [
    "from sklearn.model_selection import train_test_split\n",
    "X_train, X_test, y_train, y_test = train_test_split(df, y, test_size=0.2, random_state=23)"
   ]
  },
  {
   "cell_type": "code",
   "execution_count": 11,
   "id": "d86e5143-110e-4c23-8830-72c6a2bf485e",
   "metadata": {},
   "outputs": [
    {
     "data": {
      "text/plain": [
       "(1769, 12)"
      ]
     },
     "execution_count": 11,
     "metadata": {},
     "output_type": "execute_result"
    }
   ],
   "source": [
    "X_train.shape"
   ]
  },
  {
   "cell_type": "code",
   "execution_count": 12,
   "id": "2249a8d8-31c4-42f4-b1cb-169315d27477",
   "metadata": {},
   "outputs": [
    {
     "data": {
      "text/plain": [
       "(443, 12)"
      ]
     },
     "execution_count": 12,
     "metadata": {},
     "output_type": "execute_result"
    }
   ],
   "source": [
    "X_test.shape"
   ]
  },
  {
   "cell_type": "code",
   "execution_count": 13,
   "id": "e9575e39-8e82-4e39-8dc7-9560c0f33091",
   "metadata": {},
   "outputs": [
    {
     "data": {
      "text/plain": [
       "(1769,)"
      ]
     },
     "execution_count": 13,
     "metadata": {},
     "output_type": "execute_result"
    }
   ],
   "source": [
    "y_train.shape"
   ]
  },
  {
   "cell_type": "code",
   "execution_count": 14,
   "id": "7ac8eec5-6931-4063-98a9-b8473246f4fe",
   "metadata": {},
   "outputs": [
    {
     "data": {
      "text/plain": [
       "(443,)"
      ]
     },
     "execution_count": 14,
     "metadata": {},
     "output_type": "execute_result"
    }
   ],
   "source": [
    "y_test.shape"
   ]
  },
  {
   "cell_type": "markdown",
   "id": "6a91e08c-1d60-4749-b381-3f7c356ba45b",
   "metadata": {},
   "source": [
    "### **Step 2. Scaling, transforming and encoding the data**"
   ]
  },
  {
   "cell_type": "code",
   "execution_count": 15,
   "id": "a7af02f6-5fe8-4e70-b068-41c7f25773dd",
   "metadata": {},
   "outputs": [],
   "source": [
    "from sklearn.compose import ColumnTransformer\n",
    "from sklearn.preprocessing import OneHotEncoder\n",
    "from sklearn.preprocessing import FunctionTransformer\n",
    "from sklearn.preprocessing import RobustScaler\n",
    "from sklearn.pipeline import Pipeline\n",
    "\n",
    "cat = df.select_dtypes([object,bool]).columns\n",
    "numx = ['Area']"
   ]
  },
  {
   "cell_type": "code",
   "execution_count": 16,
   "id": "27dce1ca-07bd-4f75-a74d-97c9f6459deb",
   "metadata": {},
   "outputs": [],
   "source": [
    "num_pipeline = Pipeline([\n",
    "       (\"log\", FunctionTransformer(np.log, inverse_func = np.exp,\n",
    "                                   validate=True, check_inverse = True)),\n",
    "        (\"scale\", RobustScaler())])\n",
    "      \n",
    "full_pipeline = ColumnTransformer(transformers=[\n",
    "        (\"num\", num_pipeline, numx),\n",
    "        (\"oht\", OneHotEncoder(drop='first',sparse=False), cat)])"
   ]
  },
  {
   "cell_type": "code",
   "execution_count": 17,
   "id": "752f6263-1914-47e7-b376-7fcaa52d5b80",
   "metadata": {},
   "outputs": [],
   "source": [
    "X_train = full_pipeline.fit_transform(X_train) \n",
    "X_test = full_pipeline.transform(X_test) "
   ]
  },
  {
   "cell_type": "code",
   "execution_count": 18,
   "id": "fbf76b98-3951-473b-bd65-74d9d26c38af",
   "metadata": {},
   "outputs": [
    {
     "data": {
      "text/plain": [
       "(1769, 30)"
      ]
     },
     "execution_count": 18,
     "metadata": {},
     "output_type": "execute_result"
    }
   ],
   "source": [
    "X_train.shape"
   ]
  },
  {
   "cell_type": "code",
   "execution_count": 19,
   "id": "99ac604a-0f42-4e34-a73a-8e43fc8c9b4d",
   "metadata": {},
   "outputs": [
    {
     "data": {
      "text/plain": [
       "(443, 30)"
      ]
     },
     "execution_count": 19,
     "metadata": {},
     "output_type": "execute_result"
    }
   ],
   "source": [
    "X_test.shape"
   ]
  },
  {
   "cell_type": "code",
   "execution_count": 20,
   "id": "a4eef83f-e78d-41e0-924e-405bb2a27641",
   "metadata": {},
   "outputs": [],
   "source": [
    "y_train = num_pipeline.fit_transform(y_train.values.reshape(-1, 1))\n",
    "y_test = num_pipeline.transform(y_test.values.reshape(-1, 1))"
   ]
  },
  {
   "cell_type": "code",
   "execution_count": 21,
   "id": "ccc1c1ae-9eeb-4afd-8198-1a254ead021d",
   "metadata": {},
   "outputs": [
    {
     "data": {
      "text/plain": [
       "(1769, 1)"
      ]
     },
     "execution_count": 21,
     "metadata": {},
     "output_type": "execute_result"
    }
   ],
   "source": [
    "y_train.shape"
   ]
  },
  {
   "cell_type": "code",
   "execution_count": 22,
   "id": "3110543f-fe89-4118-89ea-855287c85db9",
   "metadata": {},
   "outputs": [
    {
     "data": {
      "text/plain": [
       "(443, 1)"
      ]
     },
     "execution_count": 22,
     "metadata": {},
     "output_type": "execute_result"
    }
   ],
   "source": [
    "y_test.shape"
   ]
  },
  {
   "cell_type": "markdown",
   "id": "afa3f55b-f886-4cc6-9dc6-b3087eec2726",
   "metadata": {},
   "source": [
    "### **Step 3. Further feature selection** "
   ]
  },
  {
   "cell_type": "code",
   "execution_count": 23,
   "id": "ee366f3a-291e-4ba0-bd3b-8580a6e5d36b",
   "metadata": {},
   "outputs": [
    {
     "name": "stdout",
     "output_type": "stream",
     "text": [
      "RFECV(cv=3, estimator=LinearRegression(), min_features_to_select=5, n_jobs=10)\n",
      "27\n"
     ]
    }
   ],
   "source": [
    "from sklearn.feature_selection import RFECV\n",
    "from sklearn.linear_model import LinearRegression\n",
    "rfecv = RFECV(\n",
    "    estimator=LinearRegression(),\n",
    "    min_features_to_select=5,\n",
    "    step=1,\n",
    "    n_jobs=10,\n",
    "    cv = 3\n",
    ")\n",
    "rfecv.fit(X_train, y_train)\n",
    "rfecv.transform(X_train)\n",
    "print(rfecv)\n",
    "print(rfecv.n_features_)"
   ]
  },
  {
   "cell_type": "code",
   "execution_count": 24,
   "id": "38fa390a-084f-4e7f-bddf-e2f07c801e26",
   "metadata": {},
   "outputs": [
    {
     "data": {
      "image/png": "[encoded data removed]",
      "text/plain": [
       "<Figure size 720x360 with 1 Axes>"
      ]
     },
     "metadata": {},
     "output_type": "display_data"
    }
   ],
   "source": [
    "plt.figure( )\n",
    "plt.title('Total features selected versus accuracy')\n",
    "plt.xlabel('Total features selected')\n",
    "plt.ylabel('F2 score')\n",
    "plt.plot(range(1, len(rfecv.grid_scores_) + 1), rfecv.grid_scores_)\n",
    "plt.show()"
   ]
  },
  {
   "cell_type": "code",
   "execution_count": 25,
   "id": "16378b81-391b-486f-8b7b-16c3e3cfb370",
   "metadata": {},
   "outputs": [],
   "source": [
    "ohe0 = pd.get_dummies(df['District'],drop_first = True)\n",
    "ohe1 = pd.get_dummies(df['Type of building'],drop_first = True)\n",
    "copy = df.copy()\n",
    "copy = pd.get_dummies(df, columns=cat,drop_first = True)\n",
    "data = {'Feature': copy.columns,\n",
    "        'Rank': rfecv.ranking_,\n",
    "       'Support' : rfecv.support_}\n",
    " \n",
    "ranking = pd.DataFrame(data)"
   ]
  },
  {
   "cell_type": "code",
   "execution_count": 26,
   "id": "bfa2600b-138e-46d8-8a95-44bc1dd093c1",
   "metadata": {},
   "outputs": [
    {
     "data": {
      "text/html": [
       "<div>\n",
       "<style scoped>\n",
       "    .dataframe tbody tr th:only-of-type {\n",
       "        vertical-align: middle;\n",
       "    }\n",
       "\n",
       "    .dataframe tbody tr th {\n",
       "        vertical-align: top;\n",
       "    }\n",
       "\n",
       "    .dataframe thead th {\n",
       "        text-align: right;\n",
       "    }\n",
       "</style>\n",
       "<table border=\"1\" class=\"dataframe\">\n",
       "  <thead>\n",
       "    <tr style=\"text-align: right;\">\n",
       "      <th></th>\n",
       "      <th>Feature</th>\n",
       "      <th>Rank</th>\n",
       "      <th>Support</th>\n",
       "    </tr>\n",
       "  </thead>\n",
       "  <tbody>\n",
       "    <tr>\n",
       "      <th>13</th>\n",
       "      <td>District_Rembertów</td>\n",
       "      <td>2</td>\n",
       "      <td>False</td>\n",
       "    </tr>\n",
       "    <tr>\n",
       "      <th>14</th>\n",
       "      <td>District_Targówek</td>\n",
       "      <td>4</td>\n",
       "      <td>False</td>\n",
       "    </tr>\n",
       "    <tr>\n",
       "      <th>16</th>\n",
       "      <td>District_Ursynów</td>\n",
       "      <td>3</td>\n",
       "      <td>False</td>\n",
       "    </tr>\n",
       "  </tbody>\n",
       "</table>\n",
       "</div>"
      ],
      "text/plain": [
       "               Feature  Rank  Support\n",
       "13  District_Rembertów     2    False\n",
       "14   District_Targówek     4    False\n",
       "16    District_Ursynów     3    False"
      ]
     },
     "execution_count": 26,
     "metadata": {},
     "output_type": "execute_result"
    }
   ],
   "source": [
    "ranking[ranking['Support'] == False]"
   ]
  },
  {
   "cell_type": "code",
   "execution_count": 27,
   "id": "33f0ac3c-8482-4d13-80c2-c97db37180c2",
   "metadata": {},
   "outputs": [
    {
     "data": {
      "text/html": [
       "<div>\n",
       "<style scoped>\n",
       "    .dataframe tbody tr th:only-of-type {\n",
       "        vertical-align: middle;\n",
       "    }\n",
       "\n",
       "    .dataframe tbody tr th {\n",
       "        vertical-align: top;\n",
       "    }\n",
       "\n",
       "    .dataframe thead th {\n",
       "        text-align: right;\n",
       "    }\n",
       "</style>\n",
       "<table border=\"1\" class=\"dataframe\">\n",
       "  <thead>\n",
       "    <tr style=\"text-align: right;\">\n",
       "      <th></th>\n",
       "      <th>Feature</th>\n",
       "      <th>Rank</th>\n",
       "      <th>Support</th>\n",
       "    </tr>\n",
       "  </thead>\n",
       "  <tbody>\n",
       "    <tr>\n",
       "      <th>0</th>\n",
       "      <td>Area</td>\n",
       "      <td>1</td>\n",
       "      <td>True</td>\n",
       "    </tr>\n",
       "    <tr>\n",
       "      <th>1</th>\n",
       "      <td>Type of building_Block of flats</td>\n",
       "      <td>1</td>\n",
       "      <td>True</td>\n",
       "    </tr>\n",
       "    <tr>\n",
       "      <th>2</th>\n",
       "      <td>Type of building_Other</td>\n",
       "      <td>1</td>\n",
       "      <td>True</td>\n",
       "    </tr>\n",
       "    <tr>\n",
       "      <th>3</th>\n",
       "      <td>Type of building_Tenement house</td>\n",
       "      <td>1</td>\n",
       "      <td>True</td>\n",
       "    </tr>\n",
       "    <tr>\n",
       "      <th>4</th>\n",
       "      <td>Advertiser_Private</td>\n",
       "      <td>1</td>\n",
       "      <td>True</td>\n",
       "    </tr>\n",
       "    <tr>\n",
       "      <th>5</th>\n",
       "      <td>Elevator_True</td>\n",
       "      <td>1</td>\n",
       "      <td>True</td>\n",
       "    </tr>\n",
       "    <tr>\n",
       "      <th>6</th>\n",
       "      <td>Parking space_True</td>\n",
       "      <td>1</td>\n",
       "      <td>True</td>\n",
       "    </tr>\n",
       "    <tr>\n",
       "      <th>7</th>\n",
       "      <td>District_Białołęka</td>\n",
       "      <td>1</td>\n",
       "      <td>True</td>\n",
       "    </tr>\n",
       "    <tr>\n",
       "      <th>8</th>\n",
       "      <td>District_Bielany</td>\n",
       "      <td>1</td>\n",
       "      <td>True</td>\n",
       "    </tr>\n",
       "    <tr>\n",
       "      <th>9</th>\n",
       "      <td>District_Mokotów</td>\n",
       "      <td>1</td>\n",
       "      <td>True</td>\n",
       "    </tr>\n",
       "    <tr>\n",
       "      <th>10</th>\n",
       "      <td>District_Ochota</td>\n",
       "      <td>1</td>\n",
       "      <td>True</td>\n",
       "    </tr>\n",
       "    <tr>\n",
       "      <th>11</th>\n",
       "      <td>District_Praga-południe</td>\n",
       "      <td>1</td>\n",
       "      <td>True</td>\n",
       "    </tr>\n",
       "    <tr>\n",
       "      <th>12</th>\n",
       "      <td>District_Praga-północ</td>\n",
       "      <td>1</td>\n",
       "      <td>True</td>\n",
       "    </tr>\n",
       "    <tr>\n",
       "      <th>13</th>\n",
       "      <td>District_Rembertów</td>\n",
       "      <td>2</td>\n",
       "      <td>False</td>\n",
       "    </tr>\n",
       "    <tr>\n",
       "      <th>14</th>\n",
       "      <td>District_Targówek</td>\n",
       "      <td>4</td>\n",
       "      <td>False</td>\n",
       "    </tr>\n",
       "    <tr>\n",
       "      <th>15</th>\n",
       "      <td>District_Ursus</td>\n",
       "      <td>1</td>\n",
       "      <td>True</td>\n",
       "    </tr>\n",
       "    <tr>\n",
       "      <th>16</th>\n",
       "      <td>District_Ursynów</td>\n",
       "      <td>3</td>\n",
       "      <td>False</td>\n",
       "    </tr>\n",
       "    <tr>\n",
       "      <th>17</th>\n",
       "      <td>District_Wawer</td>\n",
       "      <td>1</td>\n",
       "      <td>True</td>\n",
       "    </tr>\n",
       "    <tr>\n",
       "      <th>18</th>\n",
       "      <td>District_Wesoła</td>\n",
       "      <td>1</td>\n",
       "      <td>True</td>\n",
       "    </tr>\n",
       "    <tr>\n",
       "      <th>19</th>\n",
       "      <td>District_Wilanów</td>\n",
       "      <td>1</td>\n",
       "      <td>True</td>\n",
       "    </tr>\n",
       "    <tr>\n",
       "      <th>20</th>\n",
       "      <td>District_Wola</td>\n",
       "      <td>1</td>\n",
       "      <td>True</td>\n",
       "    </tr>\n",
       "    <tr>\n",
       "      <th>21</th>\n",
       "      <td>District_Włochy</td>\n",
       "      <td>1</td>\n",
       "      <td>True</td>\n",
       "    </tr>\n",
       "    <tr>\n",
       "      <th>22</th>\n",
       "      <td>District_Śródmieście</td>\n",
       "      <td>1</td>\n",
       "      <td>True</td>\n",
       "    </tr>\n",
       "    <tr>\n",
       "      <th>23</th>\n",
       "      <td>District_Żoliborz</td>\n",
       "      <td>1</td>\n",
       "      <td>True</td>\n",
       "    </tr>\n",
       "    <tr>\n",
       "      <th>24</th>\n",
       "      <td>Washing machine_True</td>\n",
       "      <td>1</td>\n",
       "      <td>True</td>\n",
       "    </tr>\n",
       "    <tr>\n",
       "      <th>25</th>\n",
       "      <td>Oven_True</td>\n",
       "      <td>1</td>\n",
       "      <td>True</td>\n",
       "    </tr>\n",
       "    <tr>\n",
       "      <th>26</th>\n",
       "      <td>Stove_True</td>\n",
       "      <td>1</td>\n",
       "      <td>True</td>\n",
       "    </tr>\n",
       "    <tr>\n",
       "      <th>27</th>\n",
       "      <td>Refrigerator_True</td>\n",
       "      <td>1</td>\n",
       "      <td>True</td>\n",
       "    </tr>\n",
       "    <tr>\n",
       "      <th>28</th>\n",
       "      <td>Cable TV_True</td>\n",
       "      <td>1</td>\n",
       "      <td>True</td>\n",
       "    </tr>\n",
       "    <tr>\n",
       "      <th>29</th>\n",
       "      <td>Terrace_True</td>\n",
       "      <td>1</td>\n",
       "      <td>True</td>\n",
       "    </tr>\n",
       "  </tbody>\n",
       "</table>\n",
       "</div>"
      ],
      "text/plain": [
       "                            Feature  Rank  Support\n",
       "0                              Area     1     True\n",
       "1   Type of building_Block of flats     1     True\n",
       "2            Type of building_Other     1     True\n",
       "3   Type of building_Tenement house     1     True\n",
       "4                Advertiser_Private     1     True\n",
       "5                     Elevator_True     1     True\n",
       "6                Parking space_True     1     True\n",
       "7                District_Białołęka     1     True\n",
       "8                  District_Bielany     1     True\n",
       "9                  District_Mokotów     1     True\n",
       "10                  District_Ochota     1     True\n",
       "11          District_Praga-południe     1     True\n",
       "12            District_Praga-północ     1     True\n",
       "13               District_Rembertów     2    False\n",
       "14                District_Targówek     4    False\n",
       "15                   District_Ursus     1     True\n",
       "16                 District_Ursynów     3    False\n",
       "17                   District_Wawer     1     True\n",
       "18                  District_Wesoła     1     True\n",
       "19                 District_Wilanów     1     True\n",
       "20                    District_Wola     1     True\n",
       "21                  District_Włochy     1     True\n",
       "22             District_Śródmieście     1     True\n",
       "23                District_Żoliborz     1     True\n",
       "24             Washing machine_True     1     True\n",
       "25                        Oven_True     1     True\n",
       "26                       Stove_True     1     True\n",
       "27                Refrigerator_True     1     True\n",
       "28                    Cable TV_True     1     True\n",
       "29                     Terrace_True     1     True"
      ]
     },
     "execution_count": 27,
     "metadata": {},
     "output_type": "execute_result"
    }
   ],
   "source": [
    "ranking "
   ]
  },
  {
   "cell_type": "markdown",
   "id": "29e75113-0dd7-4b64-9fce-47a2911a47d0",
   "metadata": {},
   "source": [
    "**The 3 features without RFECV support happened to be one hour encoded categories from district column and have little impact on F2 score, so except modeling with them included will bear weak results - they are staying.**\n"
   ]
  },
  {
   "cell_type": "markdown",
   "id": "d88a67a5-ccdb-41fc-8032-c3a9b4080941",
   "metadata": {},
   "source": [
    "### **Step 5. Saving Results**"
   ]
  },
  {
   "cell_type": "code",
   "execution_count": 28,
   "id": "530e249c-6062-457a-bd6a-65f66174a555",
   "metadata": {},
   "outputs": [],
   "source": [
    "import joblib\n",
    "dataset_dict = {\"X_train\": X_train, \"X_test\": X_test,\"y_train\": y_train, \"y_test\": y_test}\n",
    "joblib.dump(full_pipeline, 'full_pipeline.pkl')\n",
    "joblib.dump(num_pipeline, 'num_pipeline.pkl')\n",
    "joblib.dump(dataset_dict, 'dataset_dict.pkl')\n",
    "ranking.to_csv('ranking.csv', index=False)"
   ]
  }
 ],
 "metadata": {
  "kernelspec": {
   "display_name": "Python 3 (ipykernel)",
   "language": "python",
   "name": "python3"
  },
  "language_info": {
   "codemirror_mode": {
    "name": "ipython",
    "version": 3
   },
   "file_extension": ".py",
   "mimetype": "text/x-python",
   "name": "python",
   "nbconvert_exporter": "python",
   "pygments_lexer": "ipython3",
   "version": "3.9.7"
  }
 },
 "nbformat": 4,
 "nbformat_minor": 5
}
