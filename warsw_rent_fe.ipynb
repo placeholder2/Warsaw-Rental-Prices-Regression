{
 "cells": [
  {
   "cell_type": "markdown",
   "id": "47c82a20-083c-46af-8e9e-b0064e0ad2c7",
   "metadata": {},
   "source": [
    "# **Feature Engineering of Warsaw Rental Prices**\n"
   ]
  },
  {
   "cell_type": "code",
   "execution_count": 1,
   "id": "eb1e0a56-f1b2-48ff-80fa-6dc2e069eb19",
   "metadata": {},
   "outputs": [],
   "source": [
    "import pandas as pd\n",
    "import numpy as np\n",
    "import matplotlib.pyplot as plt\n",
    "%matplotlib inline"
   ]
  },
  {
   "cell_type": "code",
   "execution_count": 2,
   "id": "883a5a4e-8424-4741-bc27-639e96effadd",
   "metadata": {},
   "outputs": [],
   "source": [
    "df = pd.read_csv('warsaw_rent.csv')"
   ]
  },
  {
   "cell_type": "markdown",
   "id": "b97f66bf-4fac-4e6d-b0ee-86318ab28b0e",
   "metadata": {},
   "source": [
    "## **Step 1 : Removing and reshaping columns** "
   ]
  },
  {
   "cell_type": "code",
   "execution_count": 3,
   "id": "7ff9b8cd-1604-4225-be2f-aadbf6886a4c",
   "metadata": {},
   "outputs": [],
   "source": [
    "df = df.drop(['Dishwasher','TV','Internet','Balcony','Garden','Floor','Heating','Rooms',\n",
    "         'Building material','Windows'],axis = 1)"
   ]
  },
  {
   "cell_type": "code",
   "execution_count": 4,
   "id": "ea072319-ede7-4cdd-9d21-a24330108370",
   "metadata": {},
   "outputs": [],
   "source": [
    "df = df[df['Price'].notna()]\n",
    "df['Type of building'].fillna(df['Type of building'].mode()[0], inplace=True)"
   ]
  },
  {
   "cell_type": "code",
   "execution_count": 5,
   "id": "f79f02c7-ed07-4c8b-83c2-16bad562a61f",
   "metadata": {},
   "outputs": [],
   "source": [
    "# Function to combine categories with frequency below 10% in given column \n",
    "def combine_rares(col):\n",
    "    frequencies = df[col].value_counts(normalize=True, ascending=True)\n",
    "    threshold = frequencies[(frequencies.cumsum() > 0.1).idxmax()]\n",
    "    df[col] = df[col].mask(df[col].map(df[col].value_counts(normalize=True)) < 0.01, 'other')"
   ]
  },
  {
   "cell_type": "code",
   "execution_count": 6,
   "id": "005a6eed-668d-412d-85c2-9ee4a434eeba",
   "metadata": {},
   "outputs": [
    {
     "data": {
      "text/plain": [
       "(2212, 13)"
      ]
     },
     "execution_count": 6,
     "metadata": {},
     "output_type": "execute_result"
    }
   ],
   "source": [
    "df.shape"
   ]
  },
  {
   "cell_type": "code",
   "execution_count": 7,
   "id": "0da25766-86c8-46e8-aaaa-f9a2d8531b7b",
   "metadata": {},
   "outputs": [],
   "source": [
    "combine_rares('Type of building')"
   ]
  },
  {
   "cell_type": "code",
   "execution_count": 8,
   "id": "b665129b-06c3-4345-a836-972fa6b05c6a",
   "metadata": {},
   "outputs": [],
   "source": [
    "y = df['Price']\n",
    "df = df.drop(['Price'],axis = 1)"
   ]
  },
  {
   "cell_type": "code",
   "execution_count": 9,
   "id": "40e7f574-0b48-423e-9d39-4a5ea101960d",
   "metadata": {},
   "outputs": [],
   "source": [
    "from sklearn.model_selection import train_test_split\n",
    "X_train, X_test, y_train, y_test = train_test_split(df, y, test_size=0.2, random_state=23)"
   ]
  },
  {
   "cell_type": "code",
   "execution_count": 10,
   "id": "d86e5143-110e-4c23-8830-72c6a2bf485e",
   "metadata": {},
   "outputs": [
    {
     "data": {
      "text/plain": [
       "(1769, 12)"
      ]
     },
     "execution_count": 10,
     "metadata": {},
     "output_type": "execute_result"
    }
   ],
   "source": [
    "X_train.shape"
   ]
  },
  {
   "cell_type": "code",
   "execution_count": 11,
   "id": "2249a8d8-31c4-42f4-b1cb-169315d27477",
   "metadata": {},
   "outputs": [
    {
     "data": {
      "text/plain": [
       "(443, 12)"
      ]
     },
     "execution_count": 11,
     "metadata": {},
     "output_type": "execute_result"
    }
   ],
   "source": [
    "X_test.shape"
   ]
  },
  {
   "cell_type": "code",
   "execution_count": 12,
   "id": "e9575e39-8e82-4e39-8dc7-9560c0f33091",
   "metadata": {},
   "outputs": [
    {
     "data": {
      "text/plain": [
       "(1769,)"
      ]
     },
     "execution_count": 12,
     "metadata": {},
     "output_type": "execute_result"
    }
   ],
   "source": [
    "y_train.shape"
   ]
  },
  {
   "cell_type": "code",
   "execution_count": 13,
   "id": "7ac8eec5-6931-4063-98a9-b8473246f4fe",
   "metadata": {},
   "outputs": [
    {
     "data": {
      "text/plain": [
       "(443,)"
      ]
     },
     "execution_count": 13,
     "metadata": {},
     "output_type": "execute_result"
    }
   ],
   "source": [
    "y_test.shape"
   ]
  },
  {
   "cell_type": "markdown",
   "id": "6a91e08c-1d60-4749-b381-3f7c356ba45b",
   "metadata": {},
   "source": [
    "### **Step 2. Scaling, transforming and encoding the data**"
   ]
  },
  {
   "cell_type": "code",
   "execution_count": 14,
   "id": "a7af02f6-5fe8-4e70-b068-41c7f25773dd",
   "metadata": {},
   "outputs": [],
   "source": [
    "from sklearn.compose import ColumnTransformer\n",
    "from sklearn.preprocessing import OneHotEncoder\n",
    "from sklearn.preprocessing import FunctionTransformer\n",
    "from sklearn.preprocessing import RobustScaler\n",
    "from sklearn.pipeline import Pipeline\n",
    "\n",
    "cat = df.select_dtypes([object,bool]).columns\n",
    "numx = ['Area']"
   ]
  },
  {
   "cell_type": "code",
   "execution_count": 15,
   "id": "27dce1ca-07bd-4f75-a74d-97c9f6459deb",
   "metadata": {},
   "outputs": [],
   "source": [
    "num_pipeline = Pipeline([\n",
    "       (\"log\", FunctionTransformer(np.log, validate=True)),\n",
    "        (\"scale\", RobustScaler())])\n",
    "      \n",
    "full_pipeline = ColumnTransformer(transformers=[\n",
    "        (\"num\", num_pipeline, numx),\n",
    "        (\"oht\", OneHotEncoder(drop='first',sparse=False), cat)])"
   ]
  },
  {
   "cell_type": "code",
   "execution_count": 16,
   "id": "752f6263-1914-47e7-b376-7fcaa52d5b80",
   "metadata": {},
   "outputs": [],
   "source": [
    "X_train = full_pipeline.fit_transform(X_train) \n",
    "X_test = full_pipeline.fit_transform(X_test) "
   ]
  },
  {
   "cell_type": "code",
   "execution_count": 17,
   "id": "fbf76b98-3951-473b-bd65-74d9d26c38af",
   "metadata": {},
   "outputs": [
    {
     "data": {
      "text/plain": [
       "(1769, 30)"
      ]
     },
     "execution_count": 17,
     "metadata": {},
     "output_type": "execute_result"
    }
   ],
   "source": [
    "X_train.shape"
   ]
  },
  {
   "cell_type": "code",
   "execution_count": 18,
   "id": "99ac604a-0f42-4e34-a73a-8e43fc8c9b4d",
   "metadata": {},
   "outputs": [
    {
     "data": {
      "text/plain": [
       "(443, 30)"
      ]
     },
     "execution_count": 18,
     "metadata": {},
     "output_type": "execute_result"
    }
   ],
   "source": [
    "X_test.shape"
   ]
  },
  {
   "cell_type": "code",
   "execution_count": 19,
   "id": "a4eef83f-e78d-41e0-924e-405bb2a27641",
   "metadata": {},
   "outputs": [],
   "source": [
    "y_train = num_pipeline.fit_transform(y_train.values.reshape(-1, 1))\n",
    "y_test = num_pipeline.fit_transform(y_test.values.reshape(-1, 1))"
   ]
  },
  {
   "cell_type": "code",
   "execution_count": 20,
   "id": "ccc1c1ae-9eeb-4afd-8198-1a254ead021d",
   "metadata": {},
   "outputs": [
    {
     "data": {
      "text/plain": [
       "(1769, 1)"
      ]
     },
     "execution_count": 20,
     "metadata": {},
     "output_type": "execute_result"
    }
   ],
   "source": [
    "y_train.shape"
   ]
  },
  {
   "cell_type": "code",
   "execution_count": 21,
   "id": "3110543f-fe89-4118-89ea-855287c85db9",
   "metadata": {},
   "outputs": [
    {
     "data": {
      "text/plain": [
       "(443, 1)"
      ]
     },
     "execution_count": 21,
     "metadata": {},
     "output_type": "execute_result"
    }
   ],
   "source": [
    "y_test.shape"
   ]
  },
  {
   "cell_type": "markdown",
   "id": "afa3f55b-f886-4cc6-9dc6-b3087eec2726",
   "metadata": {},
   "source": [
    "### **Step 3. Further feature selection** "
   ]
  },
  {
   "cell_type": "code",
   "execution_count": 22,
   "id": "ee366f3a-291e-4ba0-bd3b-8580a6e5d36b",
   "metadata": {},
   "outputs": [
    {
     "name": "stdout",
     "output_type": "stream",
     "text": [
      "RFECV(cv=3, estimator=LinearRegression(), min_features_to_select=5, n_jobs=10)\n",
      "27\n"
     ]
    }
   ],
   "source": [
    "from sklearn.feature_selection import RFECV\n",
    "from sklearn.linear_model import LinearRegression\n",
    "rfecv = RFECV(\n",
    "    estimator=LinearRegression(),\n",
    "    min_features_to_select=5,\n",
    "    step=1,\n",
    "    n_jobs=10,\n",
    "    cv = 3\n",
    ")\n",
    "rfecv.fit(X_train, y_train)\n",
    "rfecv.transform(X_train)\n",
    "print(rfecv)\n",
    "print(rfecv.n_features_)"
   ]
  },
  {
   "cell_type": "code",
   "execution_count": 23,
   "id": "38fa390a-084f-4e7f-bddf-e2f07c801e26",
   "metadata": {},
   "outputs": [
    {
     "data": {
      "image/png": "[encoded data removed]",
      "text/plain": [
       "<Figure size 432x288 with 1 Axes>"
      ]
     },
     "metadata": {
      "needs_background": "light"
     },
     "output_type": "display_data"
    }
   ],
   "source": [
    "plt.figure( )\n",
    "plt.title('Total features selected versus accuracy')\n",
    "plt.xlabel('Total features selected')\n",
    "plt.ylabel('F2 score')\n",
    "plt.plot(range(1, len(rfecv.grid_scores_) + 1), rfecv.grid_scores_)\n",
    "plt.show()"
   ]
  },
  {
   "cell_type": "code",
   "execution_count": 24,
   "id": "16378b81-391b-486f-8b7b-16c3e3cfb370",
   "metadata": {},
   "outputs": [],
   "source": [
    "ohe0 = pd.get_dummies(df['District'],drop_first = True)\n",
    "ohe1 = pd.get_dummies(df['Type of building'],drop_first = True)\n",
    "copy = df.copy()\n",
    "copy = copy.drop(['District','Type of building'], axis = 1)\n",
    "copy = copy.join([ohe0,ohe1])\n",
    "data = {'col': copy.columns,\n",
    "        'rank': rfecv.ranking_,\n",
    "       'support' : rfecv.support_}\n",
    " \n",
    "ranking = pd.DataFrame(data)"
   ]
  },
  {
   "cell_type": "code",
   "execution_count": 25,
   "id": "bfa2600b-138e-46d8-8a95-44bc1dd093c1",
   "metadata": {},
   "outputs": [
    {
     "data": {
      "text/html": [
       "<div>\n",
       "<style scoped>\n",
       "    .dataframe tbody tr th:only-of-type {\n",
       "        vertical-align: middle;\n",
       "    }\n",
       "\n",
       "    .dataframe tbody tr th {\n",
       "        vertical-align: top;\n",
       "    }\n",
       "\n",
       "    .dataframe thead th {\n",
       "        text-align: right;\n",
       "    }\n",
       "</style>\n",
       "<table border=\"1\" class=\"dataframe\">\n",
       "  <thead>\n",
       "    <tr style=\"text-align: right;\">\n",
       "      <th></th>\n",
       "      <th>col</th>\n",
       "      <th>rank</th>\n",
       "      <th>support</th>\n",
       "    </tr>\n",
       "  </thead>\n",
       "  <tbody>\n",
       "    <tr>\n",
       "      <th>13</th>\n",
       "      <td>Ochota</td>\n",
       "      <td>2</td>\n",
       "      <td>False</td>\n",
       "    </tr>\n",
       "    <tr>\n",
       "      <th>14</th>\n",
       "      <td>Praga-Południe</td>\n",
       "      <td>4</td>\n",
       "      <td>False</td>\n",
       "    </tr>\n",
       "    <tr>\n",
       "      <th>16</th>\n",
       "      <td>Rembertów</td>\n",
       "      <td>3</td>\n",
       "      <td>False</td>\n",
       "    </tr>\n",
       "  </tbody>\n",
       "</table>\n",
       "</div>"
      ],
      "text/plain": [
       "               col  rank  support\n",
       "13          Ochota     2    False\n",
       "14  Praga-Południe     4    False\n",
       "16       Rembertów     3    False"
      ]
     },
     "execution_count": 25,
     "metadata": {},
     "output_type": "execute_result"
    }
   ],
   "source": [
    "ranking[ranking['support'] == False]"
   ]
  },
  {
   "cell_type": "code",
   "execution_count": 26,
   "id": "33f0ac3c-8482-4d13-80c2-c97db37180c2",
   "metadata": {},
   "outputs": [
    {
     "data": {
      "text/html": [
       "<div>\n",
       "<style scoped>\n",
       "    .dataframe tbody tr th:only-of-type {\n",
       "        vertical-align: middle;\n",
       "    }\n",
       "\n",
       "    .dataframe tbody tr th {\n",
       "        vertical-align: top;\n",
       "    }\n",
       "\n",
       "    .dataframe thead th {\n",
       "        text-align: right;\n",
       "    }\n",
       "</style>\n",
       "<table border=\"1\" class=\"dataframe\">\n",
       "  <thead>\n",
       "    <tr style=\"text-align: right;\">\n",
       "      <th></th>\n",
       "      <th>col</th>\n",
       "      <th>rank</th>\n",
       "      <th>support</th>\n",
       "    </tr>\n",
       "  </thead>\n",
       "  <tbody>\n",
       "    <tr>\n",
       "      <th>0</th>\n",
       "      <td>Area</td>\n",
       "      <td>1</td>\n",
       "      <td>True</td>\n",
       "    </tr>\n",
       "    <tr>\n",
       "      <th>1</th>\n",
       "      <td>Advertiser</td>\n",
       "      <td>1</td>\n",
       "      <td>True</td>\n",
       "    </tr>\n",
       "    <tr>\n",
       "      <th>2</th>\n",
       "      <td>Elevator</td>\n",
       "      <td>1</td>\n",
       "      <td>True</td>\n",
       "    </tr>\n",
       "    <tr>\n",
       "      <th>3</th>\n",
       "      <td>Parking space</td>\n",
       "      <td>1</td>\n",
       "      <td>True</td>\n",
       "    </tr>\n",
       "    <tr>\n",
       "      <th>4</th>\n",
       "      <td>Washing machine</td>\n",
       "      <td>1</td>\n",
       "      <td>True</td>\n",
       "    </tr>\n",
       "    <tr>\n",
       "      <th>5</th>\n",
       "      <td>Oven</td>\n",
       "      <td>1</td>\n",
       "      <td>True</td>\n",
       "    </tr>\n",
       "    <tr>\n",
       "      <th>6</th>\n",
       "      <td>Stove</td>\n",
       "      <td>1</td>\n",
       "      <td>True</td>\n",
       "    </tr>\n",
       "    <tr>\n",
       "      <th>7</th>\n",
       "      <td>Refrigerator</td>\n",
       "      <td>1</td>\n",
       "      <td>True</td>\n",
       "    </tr>\n",
       "    <tr>\n",
       "      <th>8</th>\n",
       "      <td>Cable TV</td>\n",
       "      <td>1</td>\n",
       "      <td>True</td>\n",
       "    </tr>\n",
       "    <tr>\n",
       "      <th>9</th>\n",
       "      <td>Terrace</td>\n",
       "      <td>1</td>\n",
       "      <td>True</td>\n",
       "    </tr>\n",
       "    <tr>\n",
       "      <th>10</th>\n",
       "      <td>Białołęka</td>\n",
       "      <td>1</td>\n",
       "      <td>True</td>\n",
       "    </tr>\n",
       "    <tr>\n",
       "      <th>11</th>\n",
       "      <td>Bielany</td>\n",
       "      <td>1</td>\n",
       "      <td>True</td>\n",
       "    </tr>\n",
       "    <tr>\n",
       "      <th>12</th>\n",
       "      <td>Mokotów</td>\n",
       "      <td>1</td>\n",
       "      <td>True</td>\n",
       "    </tr>\n",
       "    <tr>\n",
       "      <th>13</th>\n",
       "      <td>Ochota</td>\n",
       "      <td>2</td>\n",
       "      <td>False</td>\n",
       "    </tr>\n",
       "    <tr>\n",
       "      <th>14</th>\n",
       "      <td>Praga-Południe</td>\n",
       "      <td>4</td>\n",
       "      <td>False</td>\n",
       "    </tr>\n",
       "    <tr>\n",
       "      <th>15</th>\n",
       "      <td>Praga-Północ</td>\n",
       "      <td>1</td>\n",
       "      <td>True</td>\n",
       "    </tr>\n",
       "    <tr>\n",
       "      <th>16</th>\n",
       "      <td>Rembertów</td>\n",
       "      <td>3</td>\n",
       "      <td>False</td>\n",
       "    </tr>\n",
       "    <tr>\n",
       "      <th>17</th>\n",
       "      <td>Targówek</td>\n",
       "      <td>1</td>\n",
       "      <td>True</td>\n",
       "    </tr>\n",
       "    <tr>\n",
       "      <th>18</th>\n",
       "      <td>Ursus</td>\n",
       "      <td>1</td>\n",
       "      <td>True</td>\n",
       "    </tr>\n",
       "    <tr>\n",
       "      <th>19</th>\n",
       "      <td>Ursynów</td>\n",
       "      <td>1</td>\n",
       "      <td>True</td>\n",
       "    </tr>\n",
       "    <tr>\n",
       "      <th>20</th>\n",
       "      <td>Wawer</td>\n",
       "      <td>1</td>\n",
       "      <td>True</td>\n",
       "    </tr>\n",
       "    <tr>\n",
       "      <th>21</th>\n",
       "      <td>Wesoła</td>\n",
       "      <td>1</td>\n",
       "      <td>True</td>\n",
       "    </tr>\n",
       "    <tr>\n",
       "      <th>22</th>\n",
       "      <td>Wilanów</td>\n",
       "      <td>1</td>\n",
       "      <td>True</td>\n",
       "    </tr>\n",
       "    <tr>\n",
       "      <th>23</th>\n",
       "      <td>Wola</td>\n",
       "      <td>1</td>\n",
       "      <td>True</td>\n",
       "    </tr>\n",
       "    <tr>\n",
       "      <th>24</th>\n",
       "      <td>Włochy</td>\n",
       "      <td>1</td>\n",
       "      <td>True</td>\n",
       "    </tr>\n",
       "    <tr>\n",
       "      <th>25</th>\n",
       "      <td>Śródmieście</td>\n",
       "      <td>1</td>\n",
       "      <td>True</td>\n",
       "    </tr>\n",
       "    <tr>\n",
       "      <th>26</th>\n",
       "      <td>Żoliborz</td>\n",
       "      <td>1</td>\n",
       "      <td>True</td>\n",
       "    </tr>\n",
       "    <tr>\n",
       "      <th>27</th>\n",
       "      <td>block of flats</td>\n",
       "      <td>1</td>\n",
       "      <td>True</td>\n",
       "    </tr>\n",
       "    <tr>\n",
       "      <th>28</th>\n",
       "      <td>other</td>\n",
       "      <td>1</td>\n",
       "      <td>True</td>\n",
       "    </tr>\n",
       "    <tr>\n",
       "      <th>29</th>\n",
       "      <td>tenement house</td>\n",
       "      <td>1</td>\n",
       "      <td>True</td>\n",
       "    </tr>\n",
       "  </tbody>\n",
       "</table>\n",
       "</div>"
      ],
      "text/plain": [
       "                col  rank  support\n",
       "0              Area     1     True\n",
       "1        Advertiser     1     True\n",
       "2          Elevator     1     True\n",
       "3     Parking space     1     True\n",
       "4   Washing machine     1     True\n",
       "5              Oven     1     True\n",
       "6             Stove     1     True\n",
       "7      Refrigerator     1     True\n",
       "8          Cable TV     1     True\n",
       "9           Terrace     1     True\n",
       "10        Białołęka     1     True\n",
       "11          Bielany     1     True\n",
       "12          Mokotów     1     True\n",
       "13           Ochota     2    False\n",
       "14   Praga-Południe     4    False\n",
       "15     Praga-Północ     1     True\n",
       "16        Rembertów     3    False\n",
       "17         Targówek     1     True\n",
       "18            Ursus     1     True\n",
       "19          Ursynów     1     True\n",
       "20            Wawer     1     True\n",
       "21           Wesoła     1     True\n",
       "22          Wilanów     1     True\n",
       "23             Wola     1     True\n",
       "24           Włochy     1     True\n",
       "25      Śródmieście     1     True\n",
       "26         Żoliborz     1     True\n",
       "27   block of flats     1     True\n",
       "28            other     1     True\n",
       "29   tenement house     1     True"
      ]
     },
     "execution_count": 26,
     "metadata": {},
     "output_type": "execute_result"
    }
   ],
   "source": [
    "ranking "
   ]
  },
  {
   "cell_type": "markdown",
   "id": "29e75113-0dd7-4b64-9fce-47a2911a47d0",
   "metadata": {},
   "source": [
    "**The 3 features without RFECV support happened to be one hour encoded categories from district column and have little impact on F2 score, so except modeling with them included will bear weak results - they are staying.**\n"
   ]
  },
  {
   "cell_type": "markdown",
   "id": "d88a67a5-ccdb-41fc-8032-c3a9b4080941",
   "metadata": {},
   "source": [
    "### **Step 5. Saving Results**"
   ]
  },
  {
   "cell_type": "code",
   "execution_count": 27,
   "id": "530e249c-6062-457a-bd6a-65f66174a555",
   "metadata": {},
   "outputs": [
    {
     "data": {
      "text/plain": [
       "['dataset_dict.pkl']"
      ]
     },
     "execution_count": 27,
     "metadata": {},
     "output_type": "execute_result"
    }
   ],
   "source": [
    "import joblib\n",
    "dataset_dict = {\"X_train\": X_train, \"X_test\": X_test,\"y_train\": y_train, \"y_test\": y_test}\n",
    "joblib.dump(full_pipeline, 'full_pipeline.pkl')\n",
    "joblib.dump(num_pipeline, 'num_pipeline.pkl')\n",
    "joblib.dump(dataset_dict, 'dataset_dict.pkl')"
   ]
  }
 ],
 "metadata": {
  "kernelspec": {
   "display_name": "Python 3 (ipykernel)",
   "language": "python",
   "name": "python3"
  },
  "language_info": {
   "codemirror_mode": {
    "name": "ipython",
    "version": 3
   },
   "file_extension": ".py",
   "mimetype": "text/x-python",
   "name": "python",
   "nbconvert_exporter": "python",
   "pygments_lexer": "ipython3",
   "version": "3.9.7"
  }
 },
 "nbformat": 4,
 "nbformat_minor": 5
}
